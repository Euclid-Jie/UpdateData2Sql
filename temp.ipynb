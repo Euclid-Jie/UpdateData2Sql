{
 "cells": [
  {
   "cell_type": "code",
   "execution_count": 15,
   "id": "8e0b254a",
   "metadata": {},
   "outputs": [
    {
     "name": "stdout",
     "output_type": "stream",
     "text": [
      "连接到数据库...\n",
      "正在处理指数: 000300\n",
      "读取现有数据时出错: Table index_000300_cons not found, 将创建新表\n",
      "数据已更新到表 index_000300_cons\n",
      "新增 300 条记录，当前总共 300 条记录\n",
      "正在处理指数: 000985\n",
      "读取现有数据时出错: Table index_000985_cons not found, 将创建新表\n",
      "数据已更新到表 index_000985_cons\n",
      "新增 5068 条记录，当前总共 5068 条记录\n",
      "正在处理指数: 000852\n",
      "读取现有数据时出错: Table index_000852_cons not found, 将创建新表\n",
      "数据已更新到表 index_000852_cons\n",
      "新增 1000 条记录，当前总共 1000 条记录\n",
      "正在处理指数: 000905\n",
      "读取现有数据时出错: Table index_000905_cons not found, 将创建新表\n",
      "数据已更新到表 index_000905_cons\n",
      "新增 500 条记录，当前总共 500 条记录\n"
     ]
    }
   ],
   "source": [
    "import akshare as ak\n",
    "import pandas as pd\n",
    "from utils import connect_to_database\n",
    "\n",
    "# 创建数据库连接\n",
    "engine = connect_to_database()\n",
    "\n",
    "# 获取当前最新的沪深300成分股列表\n",
    "symbols = [\"000300\", \"000985\",\"000852\",\"000905\"]\n",
    "for symbol in symbols:\n",
    "    print(f\"正在处理指数: {symbol}\")\n",
    "     # 定义表名\n",
    "    table_name = f\"index_{symbol}_cons\"\n",
    "\n",
    "    # 获取新数据\n",
    "    new_data_df = ak.index_stock_cons_weight_csindex(symbol=symbol)\n",
    "\n",
    "    try:\n",
    "        # 尝试读取现有数据\n",
    "        existing_data_df = pd.read_sql_table(table_name, engine)\n",
    "\n",
    "        combined_df = pd.concat([existing_data_df, new_data_df], ignore_index=True)\n",
    "        combined_df = combined_df.drop_duplicates(subset=[\"日期\", \"指数代码\"]).reset_index(drop=True)\n",
    "\n",
    "    except Exception as e:\n",
    "        print(f\"读取现有数据时出错: {e}, 将创建新表\")\n",
    "        combined_df = new_data_df\n",
    "\n",
    "    # 写入数据库\n",
    "    combined_df.to_sql(table_name, engine, if_exists=\"replace\", index=False)\n",
    "    print(f\"数据已更新到表 {table_name}\")\n",
    "    print(f\"新增 {len(new_data_df)} 条记录，当前总共 {len(combined_df)} 条记录\")\n",
    "engine.dispose()"
   ]
  },
  {
   "cell_type": "code",
   "execution_count": 29,
   "id": "f9709afb",
   "metadata": {},
   "outputs": [
    {
     "name": "stdout",
     "output_type": "stream",
     "text": [
      "       symbol  name   trade pricechange changepercent     buy    sell  \\\n",
      "0    sh600004  白云机场   9.660      -0.030        -0.310   9.650   9.660   \n",
      "1    sh600007  中国国贸  21.130       0.000         0.000  21.120  21.130   \n",
      "2    sh600008  首创环保   3.130      -0.010        -0.318   3.120   3.130   \n",
      "3    sh600021  上海电力  20.790      -2.310       -10.000   0.000  20.790   \n",
      "4    sh600032  浙江新能   7.700      -0.080        -1.028   7.700   7.710   \n",
      "..        ...   ...     ...         ...           ...     ...     ...   \n",
      "495  sz301301  川宁生物  11.500      -0.060        -0.519  11.490  11.500   \n",
      "496  sz301308   江波龙  92.470      -0.590        -0.634  92.470  92.490   \n",
      "497  sz301358  湖南裕能  39.360      -2.210        -5.316  39.320  39.360   \n",
      "498  sz301498  乖宝宠物  97.090      -1.760        -1.780  97.090  97.140   \n",
      "499  sz301536  星宸科技  61.940       0.450         0.732  61.940  61.950   \n",
      "\n",
      "    settlement    open    high     low    volume      amount    code  ticktime  \n",
      "0        9.690   9.660   9.690   9.640   8803145    85044073  600004  14:29:53  \n",
      "1       21.130  21.020  21.140  20.930   1622527    34150344  600007  14:29:54  \n",
      "2        3.140   3.130   3.140   3.110  60432213   188767662  600008  14:29:52  \n",
      "3       23.100  20.790  21.780  20.790  82197211  1721072130  600021  14:29:54  \n",
      "4        7.780   7.770   7.800   7.650   8591800    66191548  600032  14:29:52  \n",
      "..         ...     ...     ...     ...       ...         ...     ...       ...  \n",
      "495     11.560  11.550  11.620  11.460   9394679   108181265  301301  14:29:51  \n",
      "496     93.060  93.060  96.000  92.340   5073300   474342216  301308  14:29:51  \n",
      "497     41.570  40.500  41.000  38.580  29674665  1169005320  301358  14:29:51  \n",
      "498     98.850  98.430  99.440  95.810   2313683   224135652  301498  14:29:51  \n",
      "499     61.490  61.850  62.990  60.880   4049616   250512257  301536  14:29:48  \n",
      "\n",
      "[500 rows x 15 columns]\n"
     ]
    }
   ],
   "source": [
    "index_stock_cons_df = ak.index_stock_cons_sina(symbol=\"000905\")\n",
    "print(index_stock_cons_df)"
   ]
  },
  {
   "cell_type": "code",
   "execution_count": 21,
   "id": "e63a3aad",
   "metadata": {},
   "outputs": [],
   "source": [
    "import tushare as ts"
   ]
  },
  {
   "cell_type": "code",
   "execution_count": 22,
   "id": "83f3bc6a",
   "metadata": {},
   "outputs": [],
   "source": [
    "pro = ts.pro_api(\"94f520e0621fbeaef1471aa3e8c747e67d24898418d3412522f0fa60\")"
   ]
  },
  {
   "cell_type": "code",
   "execution_count": 28,
   "id": "37eb9acc",
   "metadata": {},
   "outputs": [
    {
     "name": "stdout",
     "output_type": "stream",
     "text": [
      "     index_code   con_code trade_date  weight\n",
      "0     000300.SH  600519.SH   20250901  3.8616\n",
      "1     000300.SH  300750.SZ   20250901  3.3453\n",
      "2     000300.SH  601318.SH   20250901  2.6228\n",
      "3     000300.SH  600036.SH   20250901  2.1642\n",
      "4     000300.SH  601899.SH   20250901  1.6725\n",
      "...         ...        ...        ...     ...\n",
      "5095  000300.SH  601808.SH   20250102  0.0444\n",
      "5096  000300.SH  688082.SH   20250102  0.0431\n",
      "5097  000300.SH  000800.SZ   20250102  0.0391\n",
      "5098  000300.SH  600377.SH   20250102  0.0375\n",
      "5099  000300.SH  001289.SZ   20250102  0.0114\n",
      "\n",
      "[5100 rows x 4 columns]\n"
     ]
    }
   ],
   "source": [
    "hs300 = pro.index_weight(index_code=\"000300.SH\", start_date=\"20250101\", end_date=\"20250910\")\n",
    "print(hs300)"
   ]
  },
  {
   "cell_type": "code",
   "execution_count": 24,
   "id": "273220e9",
   "metadata": {},
   "outputs": [
    {
     "data": {
      "text/plain": [
       "array(['20250901', '20250829', '20250801', '20250731', '20250701',\n",
       "       '20250630', '20250603', '20250530', '20250506', '20250430',\n",
       "       '20250401', '20250331', '20250303', '20250228', '20250205',\n",
       "       '20250127', '20250102'], dtype=object)"
      ]
     },
     "execution_count": 24,
     "metadata": {},
     "output_type": "execute_result"
    }
   ],
   "source": [
    "hs300['trade_date'].unique()"
   ]
  },
  {
   "cell_type": "code",
   "execution_count": 27,
   "id": "0993a576",
   "metadata": {},
   "outputs": [
    {
     "name": "stdout",
     "output_type": "stream",
     "text": [
      "['20240830' '20240731' '20240628' '20240531' '20240430' '20240329'\n",
      " '20240229' '20240131' '20231229' '20231130' '20231031' '20230928']\n",
      "6000\n"
     ]
    }
   ],
   "source": [
    "zz500 = pro.index_weight(\n",
    "    index_code=\"000905.SH\", start_date=\"20210101\", end_date=\"20240910\"\n",
    ")\n",
    "print(zz500[\"trade_date\"].unique())\n",
    "print(len(zz500))"
   ]
  },
  {
   "cell_type": "code",
   "execution_count": 30,
   "id": "fc058769",
   "metadata": {},
   "outputs": [
    {
     "name": "stdout",
     "output_type": "stream",
     "text": [
      "             日期    指数代码   指数名称   指数英文名称   成分券代码 成分券名称  \\\n",
      "0    2025-08-29  000905  中证500  CSI 500  000009  中国宝安   \n",
      "1    2025-08-29  000905  中证500  CSI 500  000021   深科技   \n",
      "2    2025-08-29  000905  中证500  CSI 500  000027  深圳能源   \n",
      "3    2025-08-29  000905  中证500  CSI 500  000032  深桑达A   \n",
      "4    2025-08-29  000905  中证500  CSI 500  000034  神州数码   \n",
      "..          ...     ...    ...      ...     ...   ...   \n",
      "495  2025-08-29  000905  中证500  CSI 500  688772  珠海冠宇   \n",
      "496  2025-08-29  000905  中证500  CSI 500  688777  中控技术   \n",
      "497  2025-08-29  000905  中证500  CSI 500  688778  厦钨新能   \n",
      "498  2025-08-29  000905  中证500  CSI 500  688819  天能股份   \n",
      "499  2025-08-29  000905  中证500  CSI 500  689009  九号公司   \n",
      "\n",
      "                                        成分券英文名称      交易所  \\\n",
      "0                    China Baoan Group Co.,Ltd.  深圳证券交易所   \n",
      "1           Shenzhen Kaifa Technology Co., Ltd.  深圳证券交易所   \n",
      "2                  Shenzhen Energy Group Co Ltd  深圳证券交易所   \n",
      "3                  Shenzhen SED Industry Co Ltd  深圳证券交易所   \n",
      "4                 Digital China Group Co., Ltd.  深圳证券交易所   \n",
      "..                                          ...      ...   \n",
      "495              Zhuhai CosMX Battery Co., Ltd.  上海证券交易所   \n",
      "496                 SUPCON Technology Co., Ltd.  上海证券交易所   \n",
      "497  XTC New Energy Materials (Xiamen) Co.,Ltd.  上海证券交易所   \n",
      "498             Tianneng Battery Group Co.,Ltd.  上海证券交易所   \n",
      "499                             Ninebot Limited  上海证券交易所   \n",
      "\n",
      "                     交易所英文名称     权重  \n",
      "0    Shenzhen Stock Exchange  0.202  \n",
      "1    Shenzhen Stock Exchange  0.272  \n",
      "2    Shenzhen Stock Exchange  0.108  \n",
      "3    Shenzhen Stock Exchange  0.138  \n",
      "4    Shenzhen Stock Exchange  0.291  \n",
      "..                       ...    ...  \n",
      "495  Shanghai Stock Exchange  0.176  \n",
      "496  Shanghai Stock Exchange  0.375  \n",
      "497  Shanghai Stock Exchange  0.134  \n",
      "498  Shanghai Stock Exchange  0.046  \n",
      "499  Shanghai Stock Exchange  0.479  \n",
      "\n",
      "[500 rows x 10 columns]\n"
     ]
    }
   ],
   "source": [
    "new_data_df = ak.index_stock_cons_weight_csindex(symbol=\"000905\")\n",
    "print(new_data_df)"
   ]
  }
 ],
 "metadata": {
  "kernelspec": {
   "display_name": "updata",
   "language": "python",
   "name": "python3"
  },
  "language_info": {
   "codemirror_mode": {
    "name": "ipython",
    "version": 3
   },
   "file_extension": ".py",
   "mimetype": "text/x-python",
   "name": "python",
   "nbconvert_exporter": "python",
   "pygments_lexer": "ipython3",
   "version": "3.10.18"
  }
 },
 "nbformat": 4,
 "nbformat_minor": 5
}
